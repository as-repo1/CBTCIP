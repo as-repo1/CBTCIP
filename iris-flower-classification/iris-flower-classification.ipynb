{
 "cells": [
  {
   "cell_type": "markdown",
   "id": "52eec9c0",
   "metadata": {},
   "source": [
    "# LetsGrowMore"
   ]
  },
  {
   "cell_type": "markdown",
   "id": "04b45f33",
   "metadata": {},
   "source": [
    "Author-Abhinaba Sarkar\n",
    "\n",
    "\n",
    "\n",
    "Task(1)-Iris Flowers Classification\n",
    "\n",
    "\n",
    "\n",
    "\n",
    "Language-Python\n",
    "\n",
    "\n",
    "\n",
    "\n",
    "\n",
    "Software-Jupyter Notebook(Colaboratory)"
   ]
  },
  {
   "cell_type": "markdown",
   "id": "6c72e72d",
   "metadata": {},
   "source": [
    "# Importing Libraries"
   ]
  },
  {
   "cell_type": "code",
   "execution_count": 1,
   "id": "b2096189",
   "metadata": {},
   "outputs": [],
   "source": [
    "import pandas as pd\n",
    "import numpy as np\n",
    "import matplotlib.pyplot as plt\n",
    "%matplotlib inline\n",
    "from sklearn import datasets"
   ]
  },
  {
   "cell_type": "markdown",
   "id": "24024f39",
   "metadata": {},
   "source": [
    "# Inserting Datasets"
   ]
  },
  {
   "cell_type": "code",
   "execution_count": 2,
   "id": "4ecfc2e3",
   "metadata": {},
   "outputs": [],
   "source": [
    "hi=pd.read_csv(\"iris.csv\")"
   ]
  },
  {
   "cell_type": "markdown",
   "id": "a27e5cd2",
   "metadata": {},
   "source": [
    "# Head of Data Set"
   ]
  },
  {
   "cell_type": "code",
   "execution_count": 3,
   "id": "34b9a1a1",
   "metadata": {},
   "outputs": [
    {
     "data": {
      "text/html": [
       "<div>\n",
       "<style scoped>\n",
       "    .dataframe tbody tr th:only-of-type {\n",
       "        vertical-align: middle;\n",
       "    }\n",
       "\n",
       "    .dataframe tbody tr th {\n",
       "        vertical-align: top;\n",
       "    }\n",
       "\n",
       "    .dataframe thead th {\n",
       "        text-align: right;\n",
       "    }\n",
       "</style>\n",
       "<table border=\"1\" class=\"dataframe\">\n",
       "  <thead>\n",
       "    <tr style=\"text-align: right;\">\n",
       "      <th></th>\n",
       "      <th>Id</th>\n",
       "      <th>SepalLengthCm</th>\n",
       "      <th>SepalWidthCm</th>\n",
       "      <th>PetalLengthCm</th>\n",
       "      <th>PetalWidthCm</th>\n",
       "      <th>Species</th>\n",
       "    </tr>\n",
       "  </thead>\n",
       "  <tbody>\n",
       "    <tr>\n",
       "      <th>0</th>\n",
       "      <td>1</td>\n",
       "      <td>5.1</td>\n",
       "      <td>3.5</td>\n",
       "      <td>1.4</td>\n",
       "      <td>0.2</td>\n",
       "      <td>Iris-setosa</td>\n",
       "    </tr>\n",
       "    <tr>\n",
       "      <th>1</th>\n",
       "      <td>2</td>\n",
       "      <td>4.9</td>\n",
       "      <td>3.0</td>\n",
       "      <td>1.4</td>\n",
       "      <td>0.2</td>\n",
       "      <td>Iris-setosa</td>\n",
       "    </tr>\n",
       "    <tr>\n",
       "      <th>2</th>\n",
       "      <td>3</td>\n",
       "      <td>4.7</td>\n",
       "      <td>3.2</td>\n",
       "      <td>1.3</td>\n",
       "      <td>0.2</td>\n",
       "      <td>Iris-setosa</td>\n",
       "    </tr>\n",
       "    <tr>\n",
       "      <th>3</th>\n",
       "      <td>4</td>\n",
       "      <td>4.6</td>\n",
       "      <td>3.1</td>\n",
       "      <td>1.5</td>\n",
       "      <td>0.2</td>\n",
       "      <td>Iris-setosa</td>\n",
       "    </tr>\n",
       "    <tr>\n",
       "      <th>4</th>\n",
       "      <td>5</td>\n",
       "      <td>5.0</td>\n",
       "      <td>3.6</td>\n",
       "      <td>1.4</td>\n",
       "      <td>0.2</td>\n",
       "      <td>Iris-setosa</td>\n",
       "    </tr>\n",
       "  </tbody>\n",
       "</table>\n",
       "</div>"
      ],
      "text/plain": [
       "   Id  SepalLengthCm  SepalWidthCm  PetalLengthCm  PetalWidthCm      Species\n",
       "0   1            5.1           3.5            1.4           0.2  Iris-setosa\n",
       "1   2            4.9           3.0            1.4           0.2  Iris-setosa\n",
       "2   3            4.7           3.2            1.3           0.2  Iris-setosa\n",
       "3   4            4.6           3.1            1.5           0.2  Iris-setosa\n",
       "4   5            5.0           3.6            1.4           0.2  Iris-setosa"
      ]
     },
     "execution_count": 3,
     "metadata": {},
     "output_type": "execute_result"
    }
   ],
   "source": [
    "hi.head()"
   ]
  },
  {
   "cell_type": "markdown",
   "id": "ec966206",
   "metadata": {},
   "source": [
    "# Shape of dataset"
   ]
  },
  {
   "cell_type": "code",
   "execution_count": 4,
   "id": "8e83d058",
   "metadata": {},
   "outputs": [
    {
     "data": {
      "text/plain": [
       "(150, 6)"
      ]
     },
     "execution_count": 4,
     "metadata": {},
     "output_type": "execute_result"
    }
   ],
   "source": [
    "hi.shape"
   ]
  },
  {
   "cell_type": "markdown",
   "id": "e9c3bad8",
   "metadata": {},
   "source": [
    "# Split the Datasets"
   ]
  },
  {
   "cell_type": "code",
   "execution_count": 5,
   "id": "bb901872",
   "metadata": {},
   "outputs": [],
   "source": [
    "from sklearn.model_selection import train_test_split"
   ]
  },
  {
   "cell_type": "code",
   "execution_count": 6,
   "id": "71319a70",
   "metadata": {},
   "outputs": [],
   "source": [
    "x=hi.drop(\"Species\",axis=1)"
   ]
  },
  {
   "cell_type": "code",
   "execution_count": 7,
   "id": "87b43942",
   "metadata": {},
   "outputs": [],
   "source": [
    "x=x.drop(\"Id\",axis=1)"
   ]
  },
  {
   "cell_type": "code",
   "execution_count": 8,
   "id": "7c424199",
   "metadata": {},
   "outputs": [],
   "source": [
    "y=hi['Species']"
   ]
  },
  {
   "cell_type": "code",
   "execution_count": 9,
   "id": "42662ff9",
   "metadata": {},
   "outputs": [],
   "source": [
    "x_train,x_test,y_train,y_test=train_test_split(x,y,test_size=0.30)"
   ]
  },
  {
   "cell_type": "markdown",
   "id": "f137ca2a",
   "metadata": {},
   "source": [
    "# Import library for KNN Algo"
   ]
  },
  {
   "cell_type": "code",
   "execution_count": 10,
   "id": "ba152894",
   "metadata": {},
   "outputs": [],
   "source": [
    "from sklearn.neighbors import KNeighborsClassifier"
   ]
  },
  {
   "cell_type": "code",
   "execution_count": 11,
   "id": "09f1f55f",
   "metadata": {},
   "outputs": [],
   "source": [
    "error_rate=[]\n",
    "for i in range(2,50):\n",
    "    knn=KNeighborsClassifier(i)\n",
    "    knn.fit(x_train,y_train)\n",
    "    pred=knn.predict(x_test)\n",
    "    error_rate.append(np.mean(y_test!=pred))"
   ]
  },
  {
   "cell_type": "code",
   "execution_count": 12,
   "id": "87f63ef2",
   "metadata": {},
   "outputs": [
    {
     "data": {
      "text/plain": [
       "[<matplotlib.lines.Line2D at 0x7fef03269e90>]"
      ]
     },
     "execution_count": 12,
     "metadata": {},
     "output_type": "execute_result"
    },
    {
     "data": {
      "image/png": "[encoded data removed]",
      "text/plain": [
       "<Figure size 640x480 with 1 Axes>"
      ]
     },
     "metadata": {},
     "output_type": "display_data"
    }
   ],
   "source": [
    "plt.plot(range(2,50),error_rate)"
   ]
  },
  {
   "cell_type": "markdown",
   "id": "678b7188",
   "metadata": {},
   "source": [
    "# Selection of hyperparameter k "
   ]
  },
  {
   "cell_type": "code",
   "execution_count": 13,
   "id": "0f0d53d8",
   "metadata": {},
   "outputs": [],
   "source": [
    "knn=KNeighborsClassifier(6)\n",
    "knn.fit(x_train,y_train)\n",
    "pred=knn.predict(x_test)"
   ]
  },
  {
   "cell_type": "markdown",
   "id": "9dcdf996",
   "metadata": {},
   "source": [
    "# Print prediction of x_test"
   ]
  },
  {
   "cell_type": "code",
   "execution_count": 14,
   "id": "f5db4d9b",
   "metadata": {},
   "outputs": [
    {
     "data": {
      "text/plain": [
       "array(['Iris-versicolor', 'Iris-virginica', 'Iris-setosa',\n",
       "       'Iris-versicolor', 'Iris-virginica', 'Iris-versicolor',\n",
       "       'Iris-virginica', 'Iris-versicolor', 'Iris-versicolor',\n",
       "       'Iris-setosa', 'Iris-setosa', 'Iris-setosa', 'Iris-setosa',\n",
       "       'Iris-setosa', 'Iris-versicolor', 'Iris-virginica', 'Iris-setosa',\n",
       "       'Iris-versicolor', 'Iris-setosa', 'Iris-setosa', 'Iris-versicolor',\n",
       "       'Iris-virginica', 'Iris-setosa', 'Iris-virginica',\n",
       "       'Iris-virginica', 'Iris-virginica', 'Iris-virginica',\n",
       "       'Iris-setosa', 'Iris-versicolor', 'Iris-setosa', 'Iris-virginica',\n",
       "       'Iris-virginica', 'Iris-versicolor', 'Iris-setosa',\n",
       "       'Iris-versicolor', 'Iris-setosa', 'Iris-versicolor',\n",
       "       'Iris-virginica', 'Iris-setosa', 'Iris-setosa', 'Iris-setosa',\n",
       "       'Iris-versicolor', 'Iris-setosa', 'Iris-virginica', 'Iris-setosa'],\n",
       "      dtype=object)"
      ]
     },
     "execution_count": 14,
     "metadata": {},
     "output_type": "execute_result"
    }
   ],
   "source": [
    "pred"
   ]
  },
  {
   "cell_type": "markdown",
   "id": "6415a17c",
   "metadata": {},
   "source": [
    "# Print Confusion Matrix and Classification Report and Model Accuracy"
   ]
  },
  {
   "cell_type": "code",
   "execution_count": 15,
   "id": "06c6d9f3",
   "metadata": {},
   "outputs": [],
   "source": [
    "from sklearn.metrics import confusion_matrix,classification_report,accuracy_score"
   ]
  },
  {
   "cell_type": "code",
   "execution_count": 16,
   "id": "8edc4261",
   "metadata": {},
   "outputs": [
    {
     "name": "stdout",
     "output_type": "stream",
     "text": [
      "[[19  0  0]\n",
      " [ 0 12  2]\n",
      " [ 0  1 11]]\n"
     ]
    }
   ],
   "source": [
    "print(confusion_matrix(y_test,pred))"
   ]
  },
  {
   "cell_type": "code",
   "execution_count": 17,
   "id": "d4e7e433",
   "metadata": {},
   "outputs": [
    {
     "name": "stdout",
     "output_type": "stream",
     "text": [
      "                 precision    recall  f1-score   support\n",
      "\n",
      "    Iris-setosa       1.00      1.00      1.00        19\n",
      "Iris-versicolor       0.92      0.86      0.89        14\n",
      " Iris-virginica       0.85      0.92      0.88        12\n",
      "\n",
      "       accuracy                           0.93        45\n",
      "      macro avg       0.92      0.92      0.92        45\n",
      "   weighted avg       0.94      0.93      0.93        45\n",
      "\n"
     ]
    }
   ],
   "source": [
    "print(classification_report(y_test,pred))"
   ]
  },
  {
   "cell_type": "code",
   "execution_count": 18,
   "id": "19d94659",
   "metadata": {},
   "outputs": [
    {
     "name": "stdout",
     "output_type": "stream",
     "text": [
      "0.9333333333333333\n"
     ]
    }
   ],
   "source": [
    "print(accuracy_score(y_test,pred))"
   ]
  }
 ],
 "metadata": {
  "kernelspec": {
   "display_name": "Python 3 (ipykernel)",
   "language": "python",
   "name": "python3"
  },
  "language_info": {
   "codemirror_mode": {
    "name": "ipython",
    "version": 3
   },
   "file_extension": ".py",
   "mimetype": "text/x-python",
   "name": "python",
   "nbconvert_exporter": "python",
   "pygments_lexer": "ipython3",
   "version": "3.11.6"
  }
 },
 "nbformat": 4,
 "nbformat_minor": 5
}
